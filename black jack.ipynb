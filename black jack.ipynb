{
 "cells": [
  {
   "cell_type": "code",
   "execution_count": 1,
   "id": "b712d7f0",
   "metadata": {},
   "outputs": [],
   "source": [
    "suits = ('Hearts', 'Diamonds', 'Spades', 'Clubs')\n",
    "ranks = ('Two', 'Three', 'Four', 'Five', 'Six', 'Seven', 'Eight', 'Nine', 'Ten', 'Jack', 'Queen', 'King', 'Ace')\n",
    "values = {'Two':2, 'Three':3, 'Four':4, 'Five':5, 'Six':6, 'Seven':7, 'Eight':8, 'Nine':9, 'Ten':10, 'Jack':10,\n",
    "         'Queen':10, 'King':10, 'Ace':11}"
   ]
  },
  {
   "cell_type": "code",
   "execution_count": 2,
   "id": "a3bf8709",
   "metadata": {},
   "outputs": [],
   "source": [
    "import random"
   ]
  },
  {
   "cell_type": "code",
   "execution_count": null,
   "id": "b7cdda89",
   "metadata": {},
   "outputs": [],
   "source": []
  },
  {
   "cell_type": "code",
   "execution_count": 3,
   "id": "b64f24a4",
   "metadata": {},
   "outputs": [],
   "source": [
    "class Card:\n",
    "    \n",
    "    def __init__(self, suit, rank):\n",
    "        self.suit = suit\n",
    "        self.rank = rank\n",
    "        \n",
    "    def __str__(self):\n",
    "        return self.rank + \" of \" + self.suit"
   ]
  },
  {
   "cell_type": "code",
   "execution_count": 4,
   "id": "6af76c19",
   "metadata": {},
   "outputs": [],
   "source": [
    "class Deck:\n",
    "    \n",
    "    def __init__(self):\n",
    "        self.deck = []\n",
    "        \n",
    "        for suit in suits:\n",
    "            for rank in ranks:\n",
    "                self.deck.append(Card(suit, rank))\n",
    "        \n",
    "    def __str__(self):\n",
    "        deck_comp = ''\n",
    "        for card in self.deck:\n",
    "            deck_comp += '\\n' + card.__str__()\n",
    "        return \"The deck has: \" + deck_comp\n",
    "    \n",
    "    def shuffled(self):\n",
    "        random.shuffle(self.deck)\n",
    "        \n",
    "    def deal(self):\n",
    "        single_card = self.deck.pop()\n",
    "        return single_card"
   ]
  },
  {
   "cell_type": "code",
   "execution_count": null,
   "id": "7d64394c",
   "metadata": {},
   "outputs": [],
   "source": [
    "test_deck = Deck()\n",
    "test_deck.shuffled()\n",
    "# print(test_deck)"
   ]
  },
  {
   "cell_type": "code",
   "execution_count": 5,
   "id": "ad141bc9",
   "metadata": {},
   "outputs": [],
   "source": [
    "class Hand:\n",
    "    def __init__(self):\n",
    "        self.cards = []\n",
    "        self.value = 0\n",
    "        self.aces = 0\n",
    "        \n",
    "    def add_card(self,card):\n",
    "        self.cards.append(card)\n",
    "        self.value += values[card.rank]\n",
    "        \n",
    "        if card.rank == 'Ace':\n",
    "            self.aces += 1\n",
    "        \n",
    "    def adjust_for_ace(self):\n",
    "        \n",
    "        while self.value > 21 and self.aces:\n",
    "            self.value -= 10\n",
    "            self.aces -= 1"
   ]
  },
  {
   "cell_type": "code",
   "execution_count": null,
   "id": "b5394425",
   "metadata": {},
   "outputs": [],
   "source": [
    "playone = Hand()\n",
    "pull_one = test_deck.deal()\n",
    "playone.add_card(test_deck.deal())"
   ]
  },
  {
   "cell_type": "code",
   "execution_count": 6,
   "id": "9ec5005d",
   "metadata": {},
   "outputs": [],
   "source": [
    "class Chips:\n",
    "    \n",
    "    def __init__(self, total=100):\n",
    "        self.total = total \n",
    "        self.bet = 0\n",
    "        \n",
    "    def win_bet(self):\n",
    "        self.total += self.bet\n",
    "        \n",
    "    def lose_bet(self):\n",
    "        self.total -= self.bet"
   ]
  },
  {
   "cell_type": "code",
   "execution_count": 7,
   "id": "38fe7af2",
   "metadata": {},
   "outputs": [],
   "source": [
    "def take_bet(chips):\n",
    "    while True:\n",
    "        \n",
    "        try:\n",
    "            chips.bet = int(input(\"How many chips would you bet?\"))\n",
    "            \n",
    "        except:\n",
    "            print(\"Enter properly\")\n",
    "            \n",
    "        else:\n",
    "            if chips.bet > chips.total:\n",
    "                print(f\"Not enough chips {chips.total}!\")\n",
    "            else:\n",
    "                break"
   ]
  },
  {
   "cell_type": "code",
   "execution_count": 8,
   "id": "9d18378a",
   "metadata": {},
   "outputs": [],
   "source": [
    "def hit(deck,hand):\n",
    "    \n",
    "    single_card = deck.deal()\n",
    "    hand.add_card(single_card)\n",
    "    hand.adjust_for_ace()"
   ]
  },
  {
   "cell_type": "code",
   "execution_count": 9,
   "id": "67f7539a",
   "metadata": {},
   "outputs": [],
   "source": [
    "def hit_or_stand(deck,hand):\n",
    "    global playing\n",
    "    \n",
    "    while True:\n",
    "        x = input('Hit or Stand, Input h or s')\n",
    "        \n",
    "        if x[0].lower() == 'h':\n",
    "            hit(deck, hand)\n",
    "            \n",
    "        elif x[0].lower() == 's':\n",
    "            print(\"Player Stands Dealer's Turn.\")\n",
    "            playing = False\n",
    "        \n",
    "        else:\n",
    "            print(\"Enter properly!\")\n",
    "            continue\n",
    "        break"
   ]
  },
  {
   "cell_type": "code",
   "execution_count": 20,
   "id": "25145c3b",
   "metadata": {},
   "outputs": [],
   "source": [
    "def show_some(player, dealer):\n",
    "    \n",
    "    print(\"\\nDealer's Hand: \")\n",
    "    print(\"First card hidden!\")\n",
    "    print(dealer.cards[1])\n",
    "    \n",
    "    print(\"\\nPlayer's Hand:\")\n",
    "    for i in player.cards:\n",
    "        print(i)\n",
    "        \n",
    "def show_all(player, dealer):\n",
    "    print(\"\\nDealer's Hand:\")\n",
    "    for i in dealer.cards:\n",
    "        print(i)\n",
    "        \n",
    "    print(f\"Value of Dealer's hand is: {dealer.value}\")\n",
    "            \n",
    "    print(\"\\n Player's Hand:\")\n",
    "    for i in player.cards:\n",
    "        print(i)\n",
    "        \n",
    "    print(f\"Value of Player's hand is: {player.value}\")"
   ]
  },
  {
   "cell_type": "code",
   "execution_count": null,
   "id": "caf443da",
   "metadata": {},
   "outputs": [],
   "source": [
    "# l = [\"nasi\", \"ikan\", \"sayur\", \"telur\"]\n",
    "# print(*l,sep=\", \")"
   ]
  },
  {
   "cell_type": "code",
   "execution_count": 11,
   "id": "55287cd5",
   "metadata": {},
   "outputs": [],
   "source": [
    "def player_bust(player, dealer, chips):\n",
    "    print(\"BUST PLAYER!\")\n",
    "    chips.lose_bet()\n",
    "\n",
    "def player_wins(player, dealer, chips):\n",
    "    print(\"PLAYER WINS!\")\n",
    "    chips.win_bet()\n",
    "    \n",
    "def dealer_bust(player, dealer, chips):\n",
    "    print(\"BUST DEALER! PLAYER WINS!\")\n",
    "    chips.win_bet()\n",
    "\n",
    "def dealer_wins(player, dealer, chips):\n",
    "    print(\"DEALER WINS!\")\n",
    "    chips.lose_bet()\n",
    "\n",
    "def push():\n",
    "    print(\"Its a tie! PUSH\")"
   ]
  },
  {
   "cell_type": "code",
   "execution_count": 13,
   "id": "7ae84bc8",
   "metadata": {},
   "outputs": [],
   "source": [
    "playing = True"
   ]
  },
  {
   "cell_type": "code",
   "execution_count": 19,
   "id": "23ffaeed",
   "metadata": {},
   "outputs": [
    {
     "name": "stdout",
     "output_type": "stream",
     "text": [
      "WELCOME TO BLACKJACK\n",
      "How many chips would you bet?40\n",
      "\n",
      " Dealer's Hand: \n",
      "First card hidden!\n",
      "King of Hearts\n",
      "\n",
      "Player's Hand:\n",
      "Eight of Hearts\n",
      "Six of Spades\n",
      "Hit or Stand, Input h or sh\n",
      "\n",
      " Dealer's Hand: \n",
      "First card hidden!\n",
      "King of Hearts\n",
      "\n",
      "Player's Hand:\n",
      "Eight of Hearts\n",
      "Six of Spades\n",
      "Ten of Diamonds\n",
      "BUST PLAYER!\n",
      "\n",
      "Player total chips are:60\n",
      "Wanna play again? y/ny\n",
      "WELCOME TO BLACKJACK\n",
      "How many chips would you bet?50\n",
      "\n",
      " Dealer's Hand: \n",
      "First card hidden!\n",
      "Nine of Spades\n",
      "\n",
      "Player's Hand:\n",
      "Nine of Hearts\n",
      "Nine of Clubs\n",
      "Hit or Stand, Input h or ss\n",
      "Player Stands Dealer's Turn.\n",
      "\n",
      " Dealer's Hand: \n",
      "First card hidden!\n",
      "Nine of Spades\n",
      "\n",
      "Player's Hand:\n",
      "Nine of Hearts\n",
      "Nine of Clubs\n",
      "\n",
      "Dealer's Hand:\n",
      "Ace of Diamonds\n",
      "Nine of Spades\n",
      "Value of Dealer's hand is: 20\n",
      "\n",
      " Player's Hand:\n",
      "Nine of Hearts\n",
      "Nine of Clubs\n",
      "Value of Player's hand is: 18\n",
      "DEALER WINS!\n",
      "\n",
      "Player total chips are:50\n",
      "Wanna play again? y/nn\n",
      "Thank you for playing.\n"
     ]
    }
   ],
   "source": [
    "while True:\n",
    "    \n",
    "    # Welcoming \n",
    "    print(\"WELCOME TO BLACKJACK\")\n",
    "    \n",
    "    # Setup deck and assign two card to each player.\n",
    "    deck = Deck()\n",
    "    deck.shuffled()\n",
    "    \n",
    "    player_hand = Hand()\n",
    "    player_hand.add_card(deck.deal())\n",
    "    player_hand.add_card(deck.deal())\n",
    "    \n",
    "    dealer_hand = Hand()\n",
    "    dealer_hand.add_card(deck.deal())\n",
    "    dealer_hand.add_card(deck.deal())\n",
    "    \n",
    "    # Setup player chips\n",
    "    player_chips = Chips()\n",
    "    \n",
    "    # Player take bet\n",
    "    take_bet(player_chips)\n",
    "    \n",
    "    # Show some cards\n",
    "    show_some(player_hand, dealer_hand)\n",
    "    \n",
    "    while playing:\n",
    "        \n",
    "        hit_or_stand(deck, player_hand)\n",
    "        \n",
    "        show_some(player_hand, dealer_hand)\n",
    "        \n",
    "        if player_hand.value > 21:\n",
    "            player_bust(player_hand, dealer_hand, player_chips)\n",
    "            break\n",
    "            \n",
    "    if player_hand.value <= 21:\n",
    "        \n",
    "        while dealer_hand.value < 17:\n",
    "            hit(deck, dealer_hand)\n",
    "            \n",
    "        show_all(player_hand, dealer_hand)\n",
    "        \n",
    "        if dealer_hand.value > 21:\n",
    "            dealer_bust(player_hand, dealer_hand, player_chips)\n",
    "            \n",
    "        elif dealer_hand.value > player_hand.value:\n",
    "            dealer_wins(player_hand, dealer_hand, player_chips)\n",
    "            \n",
    "        elif dealer_hand.value < player_hand.value:\n",
    "            player_wins(player_hand, dealer_hand, player_chips)\n",
    "        \n",
    "        else:\n",
    "            push(player_hand, dealer_hand)\n",
    "            \n",
    "            \n",
    "    print(f'\\nPlayer total chips are:{player_chips.total}')\n",
    "    \n",
    "    \n",
    "    new_game = input(\"Wanna play again? y/n\")\n",
    "    \n",
    "    if new_game[0].lower() == 'y':\n",
    "        playing = True\n",
    "    else:\n",
    "        print(\"Thank you for playing.\")\n",
    "        break\n"
   ]
  },
  {
   "cell_type": "code",
   "execution_count": null,
   "id": "bdf9f273",
   "metadata": {},
   "outputs": [],
   "source": []
  },
  {
   "cell_type": "code",
   "execution_count": null,
   "id": "32bed635",
   "metadata": {},
   "outputs": [],
   "source": []
  },
  {
   "cell_type": "code",
   "execution_count": null,
   "id": "e3e0c24b",
   "metadata": {},
   "outputs": [],
   "source": []
  },
  {
   "cell_type": "code",
   "execution_count": null,
   "id": "6df373ea",
   "metadata": {},
   "outputs": [],
   "source": []
  },
  {
   "cell_type": "code",
   "execution_count": null,
   "id": "6f187446",
   "metadata": {},
   "outputs": [],
   "source": []
  },
  {
   "cell_type": "code",
   "execution_count": null,
   "id": "60d017f3",
   "metadata": {},
   "outputs": [],
   "source": []
  },
  {
   "cell_type": "code",
   "execution_count": null,
   "id": "de9a4b2f",
   "metadata": {},
   "outputs": [],
   "source": []
  },
  {
   "cell_type": "code",
   "execution_count": null,
   "id": "02f7f65e",
   "metadata": {},
   "outputs": [],
   "source": []
  },
  {
   "cell_type": "code",
   "execution_count": null,
   "id": "b9ba4c50",
   "metadata": {},
   "outputs": [],
   "source": []
  },
  {
   "cell_type": "code",
   "execution_count": null,
   "id": "660e965c",
   "metadata": {},
   "outputs": [],
   "source": []
  },
  {
   "cell_type": "code",
   "execution_count": null,
   "id": "6db87285",
   "metadata": {},
   "outputs": [],
   "source": []
  },
  {
   "cell_type": "code",
   "execution_count": null,
   "id": "eea65467",
   "metadata": {},
   "outputs": [],
   "source": []
  },
  {
   "cell_type": "code",
   "execution_count": null,
   "id": "c8b9f6ac",
   "metadata": {},
   "outputs": [],
   "source": []
  },
  {
   "cell_type": "code",
   "execution_count": null,
   "id": "49303dd1",
   "metadata": {},
   "outputs": [],
   "source": []
  }
 ],
 "metadata": {
  "kernelspec": {
   "display_name": "Python 3 (ipykernel)",
   "language": "python",
   "name": "python3"
  },
  "language_info": {
   "codemirror_mode": {
    "name": "ipython",
    "version": 3
   },
   "file_extension": ".py",
   "mimetype": "text/x-python",
   "name": "python",
   "nbconvert_exporter": "python",
   "pygments_lexer": "ipython3",
   "version": "3.11.4"
  }
 },
 "nbformat": 4,
 "nbformat_minor": 5
}
