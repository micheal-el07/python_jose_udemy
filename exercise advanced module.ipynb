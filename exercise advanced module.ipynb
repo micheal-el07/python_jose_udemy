{
 "cells": [
  {
   "cell_type": "code",
   "execution_count": 9,
   "id": "6b81f81b",
   "metadata": {},
   "outputs": [],
   "source": [
    "import zipfile\n",
    "import os\n",
    "import re"
   ]
  },
  {
   "cell_type": "code",
   "execution_count": 2,
   "id": "766a5eca",
   "metadata": {},
   "outputs": [],
   "source": [
    "zip_obj = zipfile.ZipFile('unzip_me_for_instructions.zip', 'r')"
   ]
  },
  {
   "cell_type": "code",
   "execution_count": 3,
   "id": "d18360a3",
   "metadata": {},
   "outputs": [],
   "source": [
    "zip_obj.extractall('unzip_me')"
   ]
  },
  {
   "cell_type": "code",
   "execution_count": 4,
   "id": "d0e03730",
   "metadata": {},
   "outputs": [
    {
     "data": {
      "text/plain": [
       "'C:\\\\Users\\\\kmtgm\\\\Downloads\\\\projects\\\\jose\\\\jose python\\\\advanced module'"
      ]
     },
     "execution_count": 4,
     "metadata": {},
     "output_type": "execute_result"
    }
   ],
   "source": [
    "pwd"
   ]
  },
  {
   "cell_type": "code",
   "execution_count": 5,
   "id": "cf691056",
   "metadata": {},
   "outputs": [],
   "source": [
    "file_path = 'C:\\\\Users\\\\kmtgm\\\\Downloads\\\\projects\\\\jose\\\\jose python\\\\advanced module\\\\unzip_me\\\\extracted_content'"
   ]
  },
  {
   "cell_type": "code",
   "execution_count": 10,
   "id": "82296265",
   "metadata": {},
   "outputs": [],
   "source": [
    "phone_num = r'\\d{3}-\\d{3}-\\d{4}'"
   ]
  },
  {
   "cell_type": "code",
   "execution_count": 22,
   "id": "8a2a0883",
   "metadata": {},
   "outputs": [
    {
     "ename": "IndentationError",
     "evalue": "expected an indented block after 'for' statement on line 7 (2792709581.py, line 12)",
     "output_type": "error",
     "traceback": [
      "\u001b[1;36m  Cell \u001b[1;32mIn[22], line 12\u001b[1;36m\u001b[0m\n\u001b[1;33m    for f in files:\u001b[0m\n\u001b[1;37m    ^\u001b[0m\n\u001b[1;31mIndentationError\u001b[0m\u001b[1;31m:\u001b[0m expected an indented block after 'for' statement on line 7\n"
     ]
    }
   ],
   "source": [
    "def find_num(file_path):\n",
    "    for folder, sub_folders, files in os.walk(file_path):\n",
    "\n",
    "        #print(f\"Currently looking at {folder}.\")\n",
    "        #print('\\n')\n",
    "        #print('The subfolders are: ')\n",
    "        for sub_folder in sub_folders:\n",
    "            #print(f\"\\t Subfoler: {sub_folder}\")\n",
    "\n",
    "        #print('\\n')\n",
    "        #print(\"The files are: \")\n",
    "        for f in files:\n",
    "            #print(f\"\\t File: {f}\")\n",
    "            fx = open(folder+'\\\\'+f, \"r\")\n",
    "            for x in fx:\n",
    "                line = re.findall(phone_num, x)\n",
    "                if line:\n",
    "                    print(line)\n",
    "                    target = f\n",
    "            fx.close()\n",
    "        #print('\\n')\n",
    "        \n",
    "    return target"
   ]
  },
  {
   "cell_type": "code",
   "execution_count": 13,
   "id": "d424c8cb",
   "metadata": {},
   "outputs": [
    {
     "data": {
      "text/plain": [
       "'C:\\\\Users\\\\kmtgm\\\\Downloads\\\\projects\\\\jose\\\\jose python\\\\advanced module\\\\unzip_me\\\\extracted_content\\\\Instructions.txt'"
      ]
     },
     "execution_count": 13,
     "metadata": {},
     "output_type": "execute_result"
    }
   ],
   "source": [
    "file_path+'\\\\'+f"
   ]
  },
  {
   "cell_type": "code",
   "execution_count": 20,
   "id": "326a9151",
   "metadata": {},
   "outputs": [
    {
     "data": {
      "text/plain": [
       "'EMTGPSXQEJX.txt'"
      ]
     },
     "execution_count": 20,
     "metadata": {},
     "output_type": "execute_result"
    }
   ],
   "source": [
    "target"
   ]
  },
  {
   "cell_type": "code",
   "execution_count": 26,
   "id": "a1cf6406",
   "metadata": {},
   "outputs": [],
   "source": [
    "def find_num(file_path):\n",
    "    for folder, sub_folders, files in os.walk(file_path):\n",
    "        #for sub_folder in sub_folders:\n",
    "        for f in files:\n",
    "            #print(f\"\\t File: {f}\")\n",
    "            fx = open(folder+'\\\\'+f, \"r\")\n",
    "            for x in fx:\n",
    "                line = re.findall(phone_num, x)\n",
    "                if line:\n",
    "                    #print(line)\n",
    "                    target = f\n",
    "            fx.close()\n",
    "        #print('\\n')\n",
    "        \n",
    "    return target"
   ]
  },
  {
   "cell_type": "code",
   "execution_count": 27,
   "id": "520db9e6",
   "metadata": {},
   "outputs": [],
   "source": [
    "a = find_num(file_path)"
   ]
  },
  {
   "cell_type": "code",
   "execution_count": 28,
   "id": "20cb35e7",
   "metadata": {},
   "outputs": [
    {
     "data": {
      "text/plain": [
       "'EMTGPSXQEJX.txt'"
      ]
     },
     "execution_count": 28,
     "metadata": {},
     "output_type": "execute_result"
    }
   ],
   "source": [
    "a"
   ]
  },
  {
   "cell_type": "code",
   "execution_count": null,
   "id": "84aa7480",
   "metadata": {},
   "outputs": [],
   "source": []
  }
 ],
 "metadata": {
  "kernelspec": {
   "display_name": "Python 3 (ipykernel)",
   "language": "python",
   "name": "python3"
  },
  "language_info": {
   "codemirror_mode": {
    "name": "ipython",
    "version": 3
   },
   "file_extension": ".py",
   "mimetype": "text/x-python",
   "name": "python",
   "nbconvert_exporter": "python",
   "pygments_lexer": "ipython3",
   "version": "3.11.4"
  }
 },
 "nbformat": 4,
 "nbformat_minor": 5
}
