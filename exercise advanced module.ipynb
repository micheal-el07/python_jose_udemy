{
 "cells": [
  {
   "cell_type": "code",
   "execution_count": 9,
   "id": "dd7aaa59",
   "metadata": {},
   "outputs": [],
   "source": [
    "import zipfile\n",
    "import os\n",
    "import re"
   ]
  },
  {
   "cell_type": "code",
   "execution_count": 2,
   "id": "95d4d8be",
   "metadata": {},
   "outputs": [],
   "source": [
    "zip_obj = zipfile.ZipFile('unzip_me_for_instructions.zip', 'r')"
   ]
  },
  {
   "cell_type": "code",
   "execution_count": 3,
   "id": "046834de",
   "metadata": {},
   "outputs": [],
   "source": [
    "zip_obj.extractall('unzip_me')"
   ]
  },
  {
   "cell_type": "code",
   "execution_count": 4,
   "id": "b780f53f",
   "metadata": {},
   "outputs": [
    {
     "data": {
      "text/plain": [
       "'C:\\\\Users\\\\kmtgm\\\\Downloads\\\\projects\\\\jose\\\\jose python\\\\advanced module'"
      ]
     },
     "execution_count": 4,
     "metadata": {},
     "output_type": "execute_result"
    }
   ],
   "source": [
    "pwd"
   ]
  },
  {
   "cell_type": "code",
   "execution_count": 5,
   "id": "95c78c53",
   "metadata": {},
   "outputs": [],
   "source": [
    "file_path = 'C:\\\\Users\\\\kmtgm\\\\Downloads\\\\projects\\\\jose\\\\jose python\\\\advanced module\\\\unzip_me\\\\extracted_content'"
   ]
  },
  {
   "cell_type": "code",
   "execution_count": 10,
   "id": "f6947655",
   "metadata": {},
   "outputs": [],
   "source": [
    "phone_num = r'\\d{3}-\\d{3}-\\d{4}'"
   ]
  },
  {
   "cell_type": "code",
   "execution_count": 50,
   "id": "be4a354e",
   "metadata": {},
   "outputs": [],
   "source": [
    "def find_num(file_path):\n",
    "    for folder, sub_folders, files in os.walk(file_path):\n",
    "        #for sub_folder in sub_folders:\n",
    "        for f in files:\n",
    "            #print(f\"\\t File: {f}\")\n",
    "            fx = open(folder+'\\\\'+f, \"r\")\n",
    "            for x in fx:\n",
    "                line = re.findall(phone_num, x)\n",
    "                if line:\n",
    "                    return re.findall(phone_num, x)\n",
    "                    #print(line)\n",
    "                    #target_file = f\n",
    "                    #phone_num = line\n",
    "            fx.close()\n",
    "        #print('\\n')\n",
    "        #output = (target_file, phone_num)\n",
    "    #return output"
   ]
  },
  {
   "cell_type": "code",
   "execution_count": 51,
   "id": "fc73a80a",
   "metadata": {},
   "outputs": [],
   "source": [
    "a = find_num(file_path)"
   ]
  },
  {
   "cell_type": "code",
   "execution_count": 52,
   "id": "34f39182",
   "metadata": {},
   "outputs": [
    {
     "data": {
      "text/plain": [
       "['719-266-2837']"
      ]
     },
     "execution_count": 52,
     "metadata": {},
     "output_type": "execute_result"
    }
   ],
   "source": [
    "a"
   ]
  },
  {
   "cell_type": "code",
   "execution_count": 26,
   "id": "cb020e02",
   "metadata": {},
   "outputs": [],
   "source": []
  },
  {
   "cell_type": "code",
   "execution_count": 27,
   "id": "79c77c51",
   "metadata": {},
   "outputs": [],
   "source": []
  },
  {
   "cell_type": "code",
   "execution_count": null,
   "id": "44df1f41",
   "metadata": {},
   "outputs": [],
   "source": []
  },
  {
   "cell_type": "code",
   "execution_count": null,
   "id": "0068f0e1",
   "metadata": {},
   "outputs": [],
   "source": []
  }
 ],
 "metadata": {
  "kernelspec": {
   "display_name": "Python 3 (ipykernel)",
   "language": "python",
   "name": "python3"
  },
  "language_info": {
   "codemirror_mode": {
    "name": "ipython",
    "version": 3
   },
   "file_extension": ".py",
   "mimetype": "text/x-python",
   "name": "python",
   "nbconvert_exporter": "python",
   "pygments_lexer": "ipython3",
   "version": "3.11.4"
  }
 },
 "nbformat": 4,
 "nbformat_minor": 5
}
