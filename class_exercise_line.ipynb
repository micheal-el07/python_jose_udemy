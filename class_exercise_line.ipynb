{
  "nbformat": 4,
  "nbformat_minor": 0,
  "metadata": {
    "colab": {
      "provenance": [],
      "authorship_tag": "ABX9TyP2fjCSTm+Kf+CPYN1YoG67",
      "include_colab_link": true
    },
    "kernelspec": {
      "name": "python3",
      "display_name": "Python 3"
    },
    "language_info": {
      "name": "python"
    }
  },
  "cells": [
    {
      "cell_type": "markdown",
      "metadata": {
        "id": "view-in-github",
        "colab_type": "text"
      },
      "source": [
        "<a href=\"https://colab.research.google.com/github/micheal-el07/python_jose_udemy/blob/main/class_exercise_line.ipynb\" target=\"_parent\"><img src=\"https://colab.research.google.com/assets/colab-badge.svg\" alt=\"Open In Colab\"/></a>"
      ]
    },
    {
      "cell_type": "code",
      "execution_count": 2,
      "metadata": {
        "id": "izpSK6v7Kxg7"
      },
      "outputs": [],
      "source": [
        "class Line:\n",
        "\n",
        "  def __init__(self, coor1, coor2):\n",
        "    self.coor1 = coor1\n",
        "    self.coor2 = coor2\n",
        "\n",
        "  def distance(self):\n",
        "    x1, y1 = self.coor1\n",
        "    x2, y2 = self.coor2\n",
        "\n",
        "    distance = (((x2 - x1)** 2) + ((y2 - y1)** 2)**(1/2))\n",
        "\n",
        "    return distance\n",
        "\n",
        "  def slope(self):\n",
        "    x1, y1 = self.coor1\n",
        "    x2, y2 = self.coor2\n",
        "\n",
        "    slope = (y2-y1) / (x2-x1)\n",
        "\n",
        "    return slope"
      ]
    },
    {
      "cell_type": "code",
      "source": [
        "coordinate1 = (3,2)\n",
        "coordinate2 = (8,10)\n",
        "\n",
        "li = Line(coordinate1, coordinate2)"
      ],
      "metadata": {
        "id": "e6m6KDROMIXR"
      },
      "execution_count": 3,
      "outputs": []
    },
    {
      "cell_type": "code",
      "source": [
        "li.distance()"
      ],
      "metadata": {
        "colab": {
          "base_uri": "https://localhost:8080/"
        },
        "id": "FTF6k9rJMIUp",
        "outputId": "c4904fd2-f666-49cb-8c1e-bdedb36edfd4"
      },
      "execution_count": 7,
      "outputs": [
        {
          "output_type": "execute_result",
          "data": {
            "text/plain": [
              "33.0"
            ]
          },
          "metadata": {},
          "execution_count": 7
        }
      ]
    },
    {
      "cell_type": "code",
      "source": [
        "li.slope()"
      ],
      "metadata": {
        "colab": {
          "base_uri": "https://localhost:8080/"
        },
        "id": "Hy3flHREMIR-",
        "outputId": "a7339f89-7517-4e8f-89aa-cb89b626c963"
      },
      "execution_count": 8,
      "outputs": [
        {
          "output_type": "execute_result",
          "data": {
            "text/plain": [
              "1.6"
            ]
          },
          "metadata": {},
          "execution_count": 8
        }
      ]
    },
    {
      "cell_type": "code",
      "source": [],
      "metadata": {
        "id": "c43GV54JMj1P"
      },
      "execution_count": null,
      "outputs": []
    },
    {
      "cell_type": "code",
      "source": [],
      "metadata": {
        "id": "ll_PrRp-NAA7"
      },
      "execution_count": null,
      "outputs": []
    },
    {
      "cell_type": "code",
      "source": [],
      "metadata": {
        "id": "UguWK93IM_9U"
      },
      "execution_count": null,
      "outputs": []
    },
    {
      "cell_type": "code",
      "source": [
        "class Cylinder:\n",
        "\n",
        "  pi = 3.142\n",
        "\n",
        "  def __init__(self, height=1, radius=1):\n",
        "    self.height = height\n",
        "    self.radius = radius\n",
        "\n",
        "  def volume(self):\n",
        "    volume = Cylinder.pi * (self.radius ** 2) * self.height\n",
        "\n",
        "    return round(volume, 2)\n",
        "\n",
        "  def surface_area(self):\n",
        "    surface_area = ( 2 * (Cylinder.pi * (self.radius ** 2)) + (2 * Cylinder.pi * self.radius * self.height))\n",
        "\n",
        "    return round(surface_area, 2)"
      ],
      "metadata": {
        "id": "DPS5i9XqM_3U"
      },
      "execution_count": 21,
      "outputs": []
    },
    {
      "cell_type": "code",
      "source": [
        "c = Cylinder(2,3)"
      ],
      "metadata": {
        "id": "aUiOFcpROLpO"
      },
      "execution_count": 22,
      "outputs": []
    },
    {
      "cell_type": "code",
      "source": [
        "c.volume()"
      ],
      "metadata": {
        "colab": {
          "base_uri": "https://localhost:8080/"
        },
        "id": "vXTkRyqKON_q",
        "outputId": "cdc47e77-78c6-4c20-b710-e40459e853e1"
      },
      "execution_count": 23,
      "outputs": [
        {
          "output_type": "execute_result",
          "data": {
            "text/plain": [
              "56.56"
            ]
          },
          "metadata": {},
          "execution_count": 23
        }
      ]
    },
    {
      "cell_type": "code",
      "source": [
        "c.surface_area()"
      ],
      "metadata": {
        "colab": {
          "base_uri": "https://localhost:8080/"
        },
        "id": "SCaM-OweOPaz",
        "outputId": "459f973e-2bfe-4663-ef38-42914290906e"
      },
      "execution_count": 24,
      "outputs": [
        {
          "output_type": "execute_result",
          "data": {
            "text/plain": [
              "94.26"
            ]
          },
          "metadata": {},
          "execution_count": 24
        }
      ]
    },
    {
      "cell_type": "code",
      "source": [],
      "metadata": {
        "id": "ZR_j-7mQOR2h"
      },
      "execution_count": null,
      "outputs": []
    }
  ]
}